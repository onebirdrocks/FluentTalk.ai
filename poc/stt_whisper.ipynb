{
 "cells": [
  {
   "cell_type": "code",
   "execution_count": null,
   "id": "e0e31c9d-a71a-410e-8e57-e8726eb9b5e2",
   "metadata": {},
   "outputs": [],
   "source": [
    "import whisper\n",
    "import sys\n",
    "import time\n",
    "from functools import wraps\n",
    "import mlx_whisper\n",
    "\n"
   ]
  },
  {
   "cell_type": "code",
   "execution_count": null,
   "id": "b75d7303-98e6-4f61-ba96-ae003505552f",
   "metadata": {},
   "outputs": [],
   "source": [
    "import warnings\n",
    "warnings.filterwarnings(\"ignore\", message=\"FP16 is not supported on CPU; using FP32 instead\")\n",
    "\n",
    "model = whisper.load_model(\"large\")\n",
    "model.eval()"
   ]
  },
  {
   "cell_type": "code",
   "execution_count": null,
   "id": "8ee67d3b-9732-45b1-b24b-eaf865bfec0e",
   "metadata": {},
   "outputs": [],
   "source": [
    "def measure_time(func):\n",
    "    @wraps(func)\n",
    "    def wrapper(*args, **kwargs):\n",
    "        start_time = time.time()\n",
    "        result = func(*args, **kwargs)\n",
    "        end_time = time.time()\n",
    "        elapsed_time = end_time - start_time\n",
    "        print(f\"Function '{func.__name__}' took {elapsed_time:.4f} seconds to complete.\")\n",
    "        return result\n",
    "    return wrapper\n",
    "\n",
    "\n"
   ]
  },
  {
   "cell_type": "code",
   "execution_count": null,
   "id": "8b72abec-7332-477d-b180-4ea7e91228b9",
   "metadata": {},
   "outputs": [],
   "source": [
    "@measure_time\n",
    "def audio_to_text(audio_file):\n",
    "    print(\"-------------------------------------\") \n",
    "    print(\" Running audio_to_text function\") \n",
    "    print(\"-------------------------------------\")\n",
    "    result = model.transcribe(audio_file)\n",
    "    print(\"The result is:\"+result[\"text\"])\n",
    "    \n",
    "\n",
    "@measure_time\n",
    "def audio_to_text_mlx(audio_file):\n",
    "    print(\"-------------------------------------\")\n",
    "    print(\" Running audio_to_text_mlx function\") \n",
    "    print(\"-------------------------------------\")\n",
    "    result = mlx_whisper.transcribe(audio_file, path_or_hf_repo=\"mlx-community/whisper-large-v3-mlx\")\n",
    "    #text = mlx_whisper.transcribe(audio_file)[\"text\"]\n",
    "    print(\"The result is:\"+result[\"text\"])\n",
    "\n"
   ]
  },
  {
   "cell_type": "code",
   "execution_count": null,
   "id": "5e24074e-f46a-455e-960e-6f2b8dcc02b4",
   "metadata": {},
   "outputs": [],
   "source": [
    "@measure_time\n",
    "def audio_to_text(audio_file):\n",
    "    result = model.transcribe(audio_file)\n",
    "    print(\"result in whisper:\"+result[\"text\"])\n",
    "    "
   ]
  },
  {
   "cell_type": "code",
   "execution_count": null,
   "id": "5fbf644c-c261-4d49-96fb-194ff0779458",
   "metadata": {},
   "outputs": [],
   "source": [
    "def main(audio_file):\n",
    "    audio_to_text_mlx(audio_file)\n",
    "    audio_to_text(audio_file)\n",
    "   \n",
    "\n",
    "audio_file= \"media/llm_speech.mp3\"\n",
    "main(audio_file)\n"
   ]
  },
  {
   "cell_type": "code",
   "execution_count": null,
   "id": "c5a9bc0e-75ea-4a74-ac76-bcbeabad93e7",
   "metadata": {},
   "outputs": [],
   "source": []
  },
  {
   "cell_type": "code",
   "execution_count": null,
   "id": "3a67565c-28d9-4f6b-93ed-1fbdbe5f2e06",
   "metadata": {},
   "outputs": [],
   "source": []
  }
 ],
 "metadata": {
  "kernelspec": {
   "display_name": "Python 3 (ipykernel)",
   "language": "python",
   "name": "python3"
  },
  "language_info": {
   "codemirror_mode": {
    "name": "ipython",
    "version": 3
   },
   "file_extension": ".py",
   "mimetype": "text/x-python",
   "name": "python",
   "nbconvert_exporter": "python",
   "pygments_lexer": "ipython3",
   "version": "3.10.14"
  }
 },
 "nbformat": 4,
 "nbformat_minor": 5
}
